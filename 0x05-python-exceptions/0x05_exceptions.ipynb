{
 "cells": [
  {
   "cell_type": "code",
   "execution_count": 33,
   "metadata": {},
   "outputs": [
    {
     "name": "stdout",
     "output_type": "stream",
     "text": [
      "12\n",
      "nb_print: 2\n",
      "12345\n",
      "nb_print: 5\n",
      "12345\n",
      "nb_print: 5\n"
     ]
    }
   ],
   "source": [
    "\n",
    "def safe_print_list(my_list=[], x=0):\n",
    "    len_of_list: int = 0\n",
    "    for index in range(x):\n",
    "        try:\n",
    "            print(\"{}\".format(my_list[index]), end=\"\")\n",
    "            len_of_list += 1\n",
    "        except:\n",
    "            break\n",
    "    print()\n",
    "    return len_of_list\n",
    "\n",
    "\n",
    "my_list = [1, 2, 3, 4, 5]\n",
    "\n",
    "nb_print = safe_print_list(my_list, 2)\n",
    "print(\"nb_print: {:d}\".format(nb_print))\n",
    "nb_print = safe_print_list(my_list, len(my_list))\n",
    "print(\"nb_print: {:d}\".format(nb_print))\n",
    "nb_print = safe_print_list(my_list, len(my_list) + 2)\n",
    "print(\"nb_print: {:d}\".format(nb_print))"
   ]
  },
  {
   "cell_type": "code",
   "execution_count": 5,
   "metadata": {},
   "outputs": [
    {
     "name": "stdout",
     "output_type": "stream",
     "text": [
      "89\n",
      "-89\n",
      "School is not an integer\n"
     ]
    }
   ],
   "source": [
    "def safe_print_integer(value):\n",
    "    value_checker: bool\n",
    "    try:\n",
    "        print(\"{:d}\".format(value))\n",
    "        value_checker = True\n",
    "        return value_checker\n",
    "    except (ValueError, TypeError):\n",
    "        value_checker = False\n",
    "        return value_checker\n",
    "\n",
    "\n",
    "value = 89\n",
    "has_been_print = safe_print_integer(value)\n",
    "if not has_been_print:\n",
    "    print(\"{} is not an integer\".format(value))\n",
    "\n",
    "value = -89\n",
    "has_been_print = safe_print_integer(value)\n",
    "if not has_been_print:\n",
    "    print(\"{} is not an integer\".format(value))\n",
    "\n",
    "value = \"School\"\n",
    "has_been_print = safe_print_integer(value)\n",
    "if not has_been_print:\n",
    "    print(\"{} is not an integer\".format(value))"
   ]
  },
  {
   "cell_type": "code",
   "execution_count": 13,
   "metadata": {},
   "outputs": [
    {
     "name": "stdout",
     "output_type": "stream",
     "text": [
      "12\n",
      "nb_print: 2\n",
      "12345\n",
      "nb_print: 5\n",
      "12345"
     ]
    },
    {
     "ename": "IndexError",
     "evalue": "list index out of range",
     "output_type": "error",
     "traceback": [
      "\u001b[0;31m---------------------------------------------------------------------------\u001b[0m",
      "\u001b[0;31mIndexError\u001b[0m                                Traceback (most recent call last)",
      "Cell \u001b[0;32mIn[13], line 22\u001b[0m\n\u001b[1;32m     19\u001b[0m nb_print \u001b[39m=\u001b[39m safe_print_list_integers(my_list, \u001b[39mlen\u001b[39m(my_list))\n\u001b[1;32m     20\u001b[0m \u001b[39mprint\u001b[39m(\u001b[39m\"\u001b[39m\u001b[39mnb_print: \u001b[39m\u001b[39m{:d}\u001b[39;00m\u001b[39m\"\u001b[39m\u001b[39m.\u001b[39mformat(nb_print))\n\u001b[0;32m---> 22\u001b[0m nb_print \u001b[39m=\u001b[39m safe_print_list_integers(my_list, \u001b[39mlen\u001b[39;49m(my_list) \u001b[39m+\u001b[39;49m \u001b[39m2\u001b[39;49m)\n\u001b[1;32m     23\u001b[0m \u001b[39mprint\u001b[39m(\u001b[39m\"\u001b[39m\u001b[39mnb_print: \u001b[39m\u001b[39m{:d}\u001b[39;00m\u001b[39m\"\u001b[39m\u001b[39m.\u001b[39mformat(nb_print))\n",
      "Cell \u001b[0;32mIn[13], line 5\u001b[0m, in \u001b[0;36msafe_print_list_integers\u001b[0;34m(my_list, x)\u001b[0m\n\u001b[1;32m      3\u001b[0m \u001b[39mfor\u001b[39;00m item \u001b[39min\u001b[39;00m \u001b[39mrange\u001b[39m(x):\n\u001b[1;32m      4\u001b[0m     \u001b[39mtry\u001b[39;00m:\n\u001b[0;32m----> 5\u001b[0m         \u001b[39mprint\u001b[39m(\u001b[39m\"\u001b[39m\u001b[39m{:d}\u001b[39;00m\u001b[39m\"\u001b[39m\u001b[39m.\u001b[39mformat(my_list[item]), end\u001b[39m=\u001b[39m\u001b[39m\"\u001b[39m\u001b[39m\"\u001b[39m)\n\u001b[1;32m      6\u001b[0m         total_len_list \u001b[39m+\u001b[39m\u001b[39m=\u001b[39m \u001b[39m1\u001b[39m\n\u001b[1;32m      7\u001b[0m     \u001b[39mexcept\u001b[39;00m (\u001b[39mValueError\u001b[39;00m, \u001b[39mTypeError\u001b[39;00m):\n",
      "\u001b[0;31mIndexError\u001b[0m: list index out of range"
     ]
    }
   ],
   "source": [
    "def safe_print_list_integers(my_list=[], x=0):\n",
    "    total_len_list: int = 0\n",
    "    for item in range(x):\n",
    "        try:\n",
    "            print(\"{:d}\".format(my_list[item]), end=\"\")\n",
    "            total_len_list += 1\n",
    "        except (ValueError, TypeError):\n",
    "            pass\n",
    "    print()\n",
    "    return total_len_list\n",
    "\n",
    "\n",
    "my_list = [1, 2, 3, 4, 5]\n",
    "\n",
    "nb_print = safe_print_list_integers(my_list, 2)\n",
    "print(\"nb_print: {:d}\".format(nb_print))\n",
    "\n",
    "my_list = [1, 2, 3, \"School\", 4, 5, [1, 2, 3]]\n",
    "nb_print = safe_print_list_integers(my_list, len(my_list))\n",
    "print(\"nb_print: {:d}\".format(nb_print))\n",
    "\n",
    "nb_print = safe_print_list_integers(my_list, len(my_list) + 2)\n",
    "print(\"nb_print: {:d}\".format(nb_print))"
   ]
  },
  {
   "cell_type": "code",
   "execution_count": 22,
   "metadata": {},
   "outputs": [
    {
     "name": "stdout",
     "output_type": "stream",
     "text": [
      "Inside result: 6.0\n",
      "12 / 2 = 6.0\n",
      "Inside result: None\n",
      "12 / 0 = None\n"
     ]
    }
   ],
   "source": [
    " def safe_print_division(a, b):\n",
    "    results = 0\n",
    "    try:\n",
    "        results = a / b\n",
    "    except (ZeroDivisionError, TypeError):\n",
    "        results = None\n",
    "    finally:\n",
    "        print(\"Inside result: {}\".format(results))\n",
    "    return results\n",
    "\n",
    "a = 12\n",
    "b = 2\n",
    "result = safe_print_division(a, b)\n",
    "print(\"{:d} / {:d} = {}\".format(a, b, result))\n",
    "\n",
    "a = 12\n",
    "b = 0\n",
    "result = safe_print_division(a, b)\n",
    "print(\"{:d} / {:d} = {}\".format(a, b, result))"
   ]
  },
  {
   "cell_type": "code",
   "execution_count": 30,
   "metadata": {},
   "outputs": [
    {
     "name": "stdout",
     "output_type": "stream",
     "text": [
      "[5.0, 2.0, 1.0]\n",
      "--\n",
      "division by 0\n",
      "wrong type\n",
      "out of range\n",
      "[5.0, 0, 0, 2.0, 0]\n"
     ]
    }
   ],
   "source": [
    "def list_division(my_list_1, my_list_2, list_length):\n",
    "    quotient = 0\n",
    "    new_list = []\n",
    "    for i in range(list_length):\n",
    "        try:\n",
    "            quotient = my_list_1[i] / my_list_2[i]\n",
    "        except (ValueError, TypeError):\n",
    "            print(\"wrong type\")\n",
    "            quotient = 0\n",
    "        except ZeroDivisionError:\n",
    "            print(\"division by 0\")\n",
    "            quotient = 0\n",
    "        except IndexError:\n",
    "            print(\"out of range\")\n",
    "            quotient = 0\n",
    "        finally:\n",
    "            new_list.append(quotient)\n",
    "    return new_list\n",
    "\n",
    "my_l_1 = [10, 8, 4]\n",
    "my_l_2 = [2, 4, 4]\n",
    "result = list_division(my_l_1, my_l_2, max(len(my_l_1), len(my_l_2)))\n",
    "print(result)\n",
    "\n",
    "print(\"--\")\n",
    "\n",
    "my_l_1 = [10, 8, 4, 4]\n",
    "my_l_2 = [2, 0, \"H\", 2, 7]\n",
    "result = list_division(my_l_1, my_l_2, max(len(my_l_1), len(my_l_2)))\n",
    "print(result)"
   ]
  },
  {
   "cell_type": "code",
   "execution_count": 38,
   "metadata": {},
   "outputs": [
    {
     "name": "stdout",
     "output_type": "stream",
     "text": [
      "Exception raised\n"
     ]
    }
   ],
   "source": [
    "def raise_exception():\n",
    "    raise TypeError(\"This is a type error exception\")\n",
    "\n",
    "try:\n",
    "    raise_exception()\n",
    "except TypeError as te:\n",
    "    print(\"Exception raised\")\n"
   ]
  },
  {
   "cell_type": "code",
   "execution_count": 39,
   "metadata": {},
   "outputs": [
    {
     "name": "stdout",
     "output_type": "stream",
     "text": [
      "C is fun\n"
     ]
    }
   ],
   "source": [
    "def raise_exception_msg(message=\"\"):\n",
    "    raise NameError(message)\n",
    "\n",
    "try:\n",
    "    raise_exception_msg(\"C is fun\")\n",
    "except NameError as ne:\n",
    "    print(ne)\n"
   ]
  },
  {
   "cell_type": "code",
   "execution_count": 46,
   "metadata": {},
   "outputs": [
    {
     "name": "stdout",
     "output_type": "stream",
     "text": [
      "89\n",
      "-89\n",
      "School is not an integer\n"
     ]
    },
    {
     "name": "stderr",
     "output_type": "stream",
     "text": [
      "Exception: Unknown format code 'd' for object of type 'str'\n"
     ]
    }
   ],
   "source": [
    "from sys import stderr as err\n",
    "\n",
    "\n",
    "def safe_print_integer_err(value):\n",
    "    \"\"\"_summary_\n",
    "\n",
    "    Args:\n",
    "        value (_type_): _description_\n",
    "\n",
    "    Returns:\n",
    "        _type_: _description_\n",
    "    \"\"\"\n",
    "    try:\n",
    "        print(\"{:d}\".format(value))\n",
    "        return True\n",
    "    except (TypeError, ValueError) as e_msg:\n",
    "        print(\"Exception: {}\".format(e_msg), file=err)\n",
    "        return False\n",
    "\n",
    "\n",
    "value = 89\n",
    "has_been_print = safe_print_integer_err(value)\n",
    "if not has_been_print:\n",
    "    print(\"{} is not an integer\".format(value))\n",
    "\n",
    "value = -89\n",
    "has_been_print = safe_print_integer_err(value)\n",
    "if not has_been_print:\n",
    "    print(\"{} is not an integer\".format(value))\n",
    "\n",
    "value = \"School\"\n",
    "has_been_print = safe_print_integer_err(value)\n",
    "if not has_been_print:\n",
    "    print(\"{} is not an integer\".format(value))"
   ]
  }
 ],
 "metadata": {
  "kernelspec": {
   "display_name": "Python 3",
   "language": "python",
   "name": "python3"
  },
  "language_info": {
   "codemirror_mode": {
    "name": "ipython",
    "version": 3
   },
   "file_extension": ".py",
   "mimetype": "text/x-python",
   "name": "python",
   "nbconvert_exporter": "python",
   "pygments_lexer": "ipython3",
   "version": "3.10.9"
  },
  "orig_nbformat": 4
 },
 "nbformat": 4,
 "nbformat_minor": 2
}

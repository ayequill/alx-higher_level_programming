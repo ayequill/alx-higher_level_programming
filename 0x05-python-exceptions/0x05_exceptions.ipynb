{
 "cells": [
  {
   "cell_type": "code",
   "execution_count": 14,
   "metadata": {},
   "outputs": [
    {
     "name": "stdout",
     "output_type": "stream",
     "text": [
      "12345\n"
     ]
    },
    {
     "data": {
      "text/plain": [
       "5"
      ]
     },
     "execution_count": 14,
     "metadata": {},
     "output_type": "execute_result"
    }
   ],
   "source": [
    "\n",
    "def safe_print_list(my_list=[], x=0):\n",
    "    len_of_list: number = 0\n",
    "    for index in range(x):\n",
    "        try:    \n",
    "            print(\"{}\".format(my_list[index]), end=\"\")\n",
    "            len_of_list += 1\n",
    "        except (IndexError):\n",
    "            break\n",
    "    print()\n",
    "    return len_of_list\n",
    "\n",
    "safe_print_list([1, 2, 3, 4, 5], 20)"
   ]
  },
  {
   "cell_type": "code",
   "execution_count": 16,
   "metadata": {},
   "outputs": [
    {
     "name": "stdout",
     "output_type": "stream",
     "text": [
      "89\n",
      "\n",
      "-89\n",
      "\n",
      "School is not an integer\n"
     ]
    }
   ],
   "source": [
    "def safe_print_integer(value):\n",
    "    value_checker: bool\n",
    "    try:\n",
    "        print(\"{:d}\".format(value))\n",
    "        value_checker = True\n",
    "        return value_checker\n",
    "    except (ValueError, TypeError):\n",
    "        value_checker = False\n",
    "        return value_checker\n",
    "\n",
    "value = 89\n",
    "has_been_print = safe_print_integer(value)\n",
    "if not has_been_print:\n",
    "    print(\"{} is not an integer\".format(value))\n",
    "\n",
    "value = -89\n",
    "has_been_print = safe_print_integer(value)\n",
    "if not has_been_print:\n",
    "    print(\"{} is not an integer\".format(value))\n",
    "\n",
    "value = \"School\"\n",
    "has_been_print = safe_print_integer(value)\n",
    "if not has_been_print:\n",
    "    print(\"{} is not an integer\".format(value))\n",
    "        "
   ]
  },
  {
   "cell_type": "code",
   "execution_count": null,
   "metadata": {},
   "outputs": [],
   "source": []
  }
 ],
 "metadata": {
  "kernelspec": {
   "display_name": "Python 3",
   "language": "python",
   "name": "python3"
  },
  "language_info": {
   "codemirror_mode": {
    "name": "ipython",
    "version": 3
   },
   "file_extension": ".py",
   "mimetype": "text/x-python",
   "name": "python",
   "nbconvert_exporter": "python",
   "pygments_lexer": "ipython3",
   "version": "3.10.9"
  },
  "orig_nbformat": 4
 },
 "nbformat": 4,
 "nbformat_minor": 2
}

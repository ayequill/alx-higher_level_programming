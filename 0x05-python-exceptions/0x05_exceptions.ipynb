{
 "cells": [
  {
   "cell_type": "code",
   "execution_count": 7,
   "metadata": {},
   "outputs": [
    {
     "name": "stdout",
     "output_type": "stream",
     "text": [
      "12345\n"
     ]
    },
    {
     "data": {
      "text/plain": [
       "5"
      ]
     },
     "execution_count": 7,
     "metadata": {},
     "output_type": "execute_result"
    }
   ],
   "source": [
    "\n",
    "def safe_print_list(my_list=[], x=0):\n",
    "    len_of_list: int = 0\n",
    "    for index in range(x):\n",
    "        try:\n",
    "            print(\"{}\".format(my_list[index]), end=\"\")\n",
    "            len_of_list += 1\n",
    "        except (IndexError):\n",
    "            break\n",
    "    print()\n",
    "    return len_of_list\n",
    "\n",
    "\n",
    "safe_print_list([1, 2, 3, 4, 5], 20)"
   ]
  },
  {
   "cell_type": "code",
   "execution_count": 5,
   "metadata": {},
   "outputs": [
    {
     "name": "stdout",
     "output_type": "stream",
     "text": [
      "89\n",
      "-89\n",
      "School is not an integer\n"
     ]
    }
   ],
   "source": [
    "def safe_print_integer(value):\n",
    "    value_checker: bool\n",
    "    try:\n",
    "        print(\"{:d}\".format(value))\n",
    "        value_checker = True\n",
    "        return value_checker\n",
    "    except (ValueError, TypeError):\n",
    "        value_checker = False\n",
    "        return value_checker\n",
    "\n",
    "\n",
    "value = 89\n",
    "has_been_print = safe_print_integer(value)\n",
    "if not has_been_print:\n",
    "    print(\"{} is not an integer\".format(value))\n",
    "\n",
    "value = -89\n",
    "has_been_print = safe_print_integer(value)\n",
    "if not has_been_print:\n",
    "    print(\"{} is not an integer\".format(value))\n",
    "\n",
    "value = \"School\"\n",
    "has_been_print = safe_print_integer(value)\n",
    "if not has_been_print:\n",
    "    print(\"{} is not an integer\".format(value))"
   ]
  },
  {
   "cell_type": "code",
   "execution_count": 13,
   "metadata": {},
   "outputs": [
    {
     "name": "stdout",
     "output_type": "stream",
     "text": [
      "12\n",
      "nb_print: 2\n",
      "12345\n",
      "nb_print: 5\n",
      "12345"
     ]
    },
    {
     "ename": "IndexError",
     "evalue": "list index out of range",
     "output_type": "error",
     "traceback": [
      "\u001b[0;31m---------------------------------------------------------------------------\u001b[0m",
      "\u001b[0;31mIndexError\u001b[0m                                Traceback (most recent call last)",
      "Cell \u001b[0;32mIn[13], line 22\u001b[0m\n\u001b[1;32m     19\u001b[0m nb_print \u001b[39m=\u001b[39m safe_print_list_integers(my_list, \u001b[39mlen\u001b[39m(my_list))\n\u001b[1;32m     20\u001b[0m \u001b[39mprint\u001b[39m(\u001b[39m\"\u001b[39m\u001b[39mnb_print: \u001b[39m\u001b[39m{:d}\u001b[39;00m\u001b[39m\"\u001b[39m\u001b[39m.\u001b[39mformat(nb_print))\n\u001b[0;32m---> 22\u001b[0m nb_print \u001b[39m=\u001b[39m safe_print_list_integers(my_list, \u001b[39mlen\u001b[39;49m(my_list) \u001b[39m+\u001b[39;49m \u001b[39m2\u001b[39;49m)\n\u001b[1;32m     23\u001b[0m \u001b[39mprint\u001b[39m(\u001b[39m\"\u001b[39m\u001b[39mnb_print: \u001b[39m\u001b[39m{:d}\u001b[39;00m\u001b[39m\"\u001b[39m\u001b[39m.\u001b[39mformat(nb_print))\n",
      "Cell \u001b[0;32mIn[13], line 5\u001b[0m, in \u001b[0;36msafe_print_list_integers\u001b[0;34m(my_list, x)\u001b[0m\n\u001b[1;32m      3\u001b[0m \u001b[39mfor\u001b[39;00m item \u001b[39min\u001b[39;00m \u001b[39mrange\u001b[39m(x):\n\u001b[1;32m      4\u001b[0m     \u001b[39mtry\u001b[39;00m:\n\u001b[0;32m----> 5\u001b[0m         \u001b[39mprint\u001b[39m(\u001b[39m\"\u001b[39m\u001b[39m{:d}\u001b[39;00m\u001b[39m\"\u001b[39m\u001b[39m.\u001b[39mformat(my_list[item]), end\u001b[39m=\u001b[39m\u001b[39m\"\u001b[39m\u001b[39m\"\u001b[39m)\n\u001b[1;32m      6\u001b[0m         total_len_list \u001b[39m+\u001b[39m\u001b[39m=\u001b[39m \u001b[39m1\u001b[39m\n\u001b[1;32m      7\u001b[0m     \u001b[39mexcept\u001b[39;00m (\u001b[39mValueError\u001b[39;00m, \u001b[39mTypeError\u001b[39;00m):\n",
      "\u001b[0;31mIndexError\u001b[0m: list index out of range"
     ]
    }
   ],
   "source": [
    "def safe_print_list_integers(my_list=[], x=0):\n",
    "    total_len_list: int = 0\n",
    "    for item in range(x):\n",
    "        try:\n",
    "            print(\"{:d}\".format(my_list[item]), end=\"\")\n",
    "            total_len_list += 1\n",
    "        except (ValueError, TypeError):\n",
    "            pass\n",
    "    print()\n",
    "    return total_len_list\n",
    "\n",
    "\n",
    "my_list = [1, 2, 3, 4, 5]\n",
    "\n",
    "nb_print = safe_print_list_integers(my_list, 2)\n",
    "print(\"nb_print: {:d}\".format(nb_print))\n",
    "\n",
    "my_list = [1, 2, 3, \"School\", 4, 5, [1, 2, 3]]\n",
    "nb_print = safe_print_list_integers(my_list, len(my_list))\n",
    "print(\"nb_print: {:d}\".format(nb_print))\n",
    "\n",
    "nb_print = safe_print_list_integers(my_list, len(my_list) + 2)\n",
    "print(\"nb_print: {:d}\".format(nb_print))"
   ]
  },
  {
   "cell_type": "code",
   "execution_count": 22,
   "metadata": {},
   "outputs": [
    {
     "name": "stdout",
     "output_type": "stream",
     "text": [
      "Inside result: 6.0\n",
      "12 / 2 = 6.0\n",
      "Inside result: None\n",
      "12 / 0 = None\n"
     ]
    }
   ],
   "source": [
    " def safe_print_division(a, b):\n",
    "    results = 0\n",
    "    try:\n",
    "        results = a / b\n",
    "    except (ZeroDivisionError, TypeError):\n",
    "        results = None\n",
    "    finally:\n",
    "        print(\"Inside result: {}\".format(results))\n",
    "    return results\n",
    "\n",
    "a = 12\n",
    "b = 2\n",
    "result = safe_print_division(a, b)\n",
    "print(\"{:d} / {:d} = {}\".format(a, b, result))\n",
    "\n",
    "a = 12\n",
    "b = 0\n",
    "result = safe_print_division(a, b)\n",
    "print(\"{:d} / {:d} = {}\".format(a, b, result))"
   ]
  }
 ],
 "metadata": {
  "kernelspec": {
   "display_name": "Python 3",
   "language": "python",
   "name": "python3"
  },
  "language_info": {
   "codemirror_mode": {
    "name": "ipython",
    "version": 3
   },
   "file_extension": ".py",
   "mimetype": "text/x-python",
   "name": "python",
   "nbconvert_exporter": "python",
   "pygments_lexer": "ipython3",
   "version": "3.10.9"
  },
  "orig_nbformat": 4
 },
 "nbformat": 4,
 "nbformat_minor": 2
}

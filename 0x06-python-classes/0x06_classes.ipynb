{
 "cells": [
  {
   "attachments": {},
   "cell_type": "markdown",
   "metadata": {},
   "source": [
    "# Classes with Python\n",
    "\n",
    "### Write an empty class Square that defines a square"
   ]
  },
  {
   "cell_type": "code",
   "execution_count": 3,
   "metadata": {},
   "outputs": [
    {
     "name": "stdout",
     "output_type": "stream",
     "text": [
      "<class '__main__.Square'>\n",
      "{}\n"
     ]
    }
   ],
   "source": [
    "#!/usr/bin/python3\n",
    "\"\"\"\n",
    "This is a module that contains a Square class\n",
    "\"\"\"\n",
    "\n",
    "class Square:\n",
    "    \"\"\"\n",
    "    This is a Square class that does nothing\n",
    "    \"\"\"\n",
    "    pass\n",
    "\n",
    "my_square = Square()\n",
    "print(type(my_square))\n",
    "print(my_square.__dict__)\n"
   ]
  }
 ],
 "metadata": {
  "kernelspec": {
   "display_name": "base",
   "language": "python",
   "name": "python3"
  },
  "language_info": {
   "codemirror_mode": {
    "name": "ipython",
    "version": 3
   },
   "file_extension": ".py",
   "mimetype": "text/x-python",
   "name": "python",
   "nbconvert_exporter": "python",
   "pygments_lexer": "ipython3",
   "version": "3.10.9"
  },
  "orig_nbformat": 4
 },
 "nbformat": 4,
 "nbformat_minor": 2
}

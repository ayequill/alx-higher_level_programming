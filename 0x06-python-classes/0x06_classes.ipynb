{
 "cells": [
  {
   "attachments": {},
   "cell_type": "markdown",
   "metadata": {},
   "source": [
    "# Classes with Python\n",
    "\n",
    "### Write an empty class Square that defines a square"
   ]
  },
  {
   "cell_type": "code",
   "execution_count": 3,
   "metadata": {},
   "outputs": [
    {
     "name": "stdout",
     "output_type": "stream",
     "text": [
      "<class '__main__.Square'>\n",
      "{}\n"
     ]
    }
   ],
   "source": [
    "#!/usr/bin/python3\n",
    "\"\"\"\n",
    "This is a module that contains a Square class\n",
    "\"\"\"\n",
    "\n",
    "class Square:\n",
    "    \"\"\"\n",
    "    This is a Square class that does nothing\n",
    "    \"\"\"\n",
    "    pass\n",
    "\n",
    "my_square = Square()\n",
    "print(type(my_square))\n",
    "print(my_square.__dict__)\n"
   ]
  },
  {
   "attachments": {},
   "cell_type": "markdown",
   "metadata": {},
   "source": [
    "### Write a class Square that defines a square by: (based on 0-square.py)"
   ]
  },
  {
   "cell_type": "code",
   "execution_count": 6,
   "metadata": {},
   "outputs": [
    {
     "name": "stdout",
     "output_type": "stream",
     "text": [
      "<class '__main__.Square'>\n",
      "{'_Square__size': 3}\n",
      "'Square' object has no attribute 'size'\n",
      "'Square' object has no attribute '__size'\n"
     ]
    }
   ],
   "source": [
    "#!/usr/bin/python3\n",
    "\"\"\"\n",
    "This is a module that contains a Square class\n",
    "\"\"\"\n",
    "\n",
    "class Square:\n",
    "    \"\"\"\n",
    "    This is a Square class\n",
    "    \"\"\"\n",
    "    def __init__(self, size):\n",
    "        \"\"\"\n",
    "        Initializing the class\n",
    "\n",
    "        Args:\n",
    "            size (int): size of the square\n",
    "        \"\"\"\n",
    "        self.__size = size\n",
    "        \n",
    "my_square = Square(3)\n",
    "print(type(my_square))\n",
    "print(my_square.__dict__)\n",
    "\n",
    "try:\n",
    "    print(my_square.size)\n",
    "except Exception as e:\n",
    "    print(e)\n",
    "\n",
    "try:\n",
    "    print(my_square.__size)\n",
    "except Exception as e:\n",
    "    print(e)"
   ]
  },
  {
   "attachments": {},
   "cell_type": "markdown",
   "metadata": {},
   "source": [
    "### Write a class Square that defines a square by: (based on 1-square.py)"
   ]
  },
  {
   "cell_type": "code",
   "execution_count": 17,
   "metadata": {},
   "outputs": [
    {
     "name": "stdout",
     "output_type": "stream",
     "text": [
      "<class '__main__.Square'>\n",
      "{'_Square__size': 3}\n",
      "<class '__main__.Square'>\n",
      "{'_Square__size': 0}\n",
      "'Square' object has no attribute 'size'\n",
      "'Square' object has no attribute '__size'\n",
      "size must be an integer\n",
      "size must be >= 0\n"
     ]
    }
   ],
   "source": [
    "#!/usr/bin/python3\n",
    "\"\"\"\n",
    "This is a module that contains a Square class\n",
    "\"\"\"\n",
    "\n",
    "class Square:\n",
    "    \"\"\"\n",
    "    This is a Square class\n",
    "    \"\"\"\n",
    "    def __init__(self, size: int = 0):\n",
    "        \"\"\"\n",
    "        Initializing the class\n",
    "\n",
    "        Args:\n",
    "            size (int): size of the square\n",
    "        \"\"\"\n",
    "        if not isinstance(size, int):\n",
    "            raise TypeError(\"size must be an integer\")\n",
    "        if size < 0:\n",
    "            raise ValueError(\"size must be >= 0\")\n",
    "        self.__size = size\n",
    "        \n",
    "my_square_1 = Square(3)\n",
    "print(type(my_square_1))\n",
    "print(my_square_1.__dict__)\n",
    "\n",
    "my_square_2 = Square()\n",
    "print(type(my_square_2))\n",
    "print(my_square_2.__dict__)\n",
    "\n",
    "try:\n",
    "    print(my_square_1.size)\n",
    "except Exception as e:\n",
    "    print(e)\n",
    "\n",
    "try:\n",
    "    print(my_square_1.__size)\n",
    "except Exception as e:\n",
    "    print(e)\n",
    "\n",
    "try:\n",
    "    my_square_3 = Square(\"3\")\n",
    "    print(type(my_square_3))\n",
    "    print(my_square_3.__dict__)\n",
    "except Exception as e:\n",
    "    print(e)\n",
    "\n",
    "try:\n",
    "    my_square_4 = Square(-89)\n",
    "    print(type(my_square_4))\n",
    "    print(my_square_4.__dict__)\n",
    "except Exception as e:\n",
    "    print(e)"
   ]
  },
  {
   "attachments": {},
   "cell_type": "markdown",
   "metadata": {},
   "source": [
    "### Write a class Square that defines a square by: (based on 2-square.py)"
   ]
  },
  {
   "cell_type": "code",
   "execution_count": 19,
   "metadata": {},
   "outputs": [
    {
     "name": "stdout",
     "output_type": "stream",
     "text": [
      "Area: 9\n",
      "'Square' object has no attribute 'size'\n",
      "'Square' object has no attribute '__size'\n",
      "Area: 25\n"
     ]
    }
   ],
   "source": [
    "#!/usr/bin/python3\n",
    "\"\"\"\n",
    "This is a module that contains a Square class\n",
    "\"\"\"\n",
    "\n",
    "class Square:\n",
    "    \"\"\"\n",
    "    This is a Square class\n",
    "    \"\"\"\n",
    "    def __init__(self, size: int = 0):\n",
    "        \"\"\"\n",
    "        Initializing the class\n",
    "\n",
    "        Args:\n",
    "            size (int): size of the square\n",
    "        \"\"\"\n",
    "        if not isinstance(size, int):\n",
    "            raise TypeError(\"size must be an integer\")\n",
    "        if size < 0:\n",
    "            raise ValueError(\"size must be >= 0\")\n",
    "        self.__size = size\n",
    "    \n",
    "    def area(self):\n",
    "        \"\"\"\n",
    "        returns the area of the square\n",
    "        \"\"\"\n",
    "        return self.__size ** 2\n",
    "\n",
    "my_square_1 = Square(3)\n",
    "print(\"Area: {}\".format(my_square_1.area()))\n",
    "\n",
    "try:\n",
    "    print(my_square_1.size)\n",
    "except Exception as e:\n",
    "    print(e)\n",
    "\n",
    "try:\n",
    "    print(my_square_1.__size)\n",
    "except Exception as e:\n",
    "    print(e)\n",
    "\n",
    "my_square_2 = Square(5)\n",
    "print(\"Area: {}\".format(my_square_2.area()))"
   ]
  }
 ],
 "metadata": {
  "kernelspec": {
   "display_name": "base",
   "language": "python",
   "name": "python3"
  },
  "language_info": {
   "codemirror_mode": {
    "name": "ipython",
    "version": 3
   },
   "file_extension": ".py",
   "mimetype": "text/x-python",
   "name": "python",
   "nbconvert_exporter": "python",
   "pygments_lexer": "ipython3",
   "version": "3.10.9"
  },
  "orig_nbformat": 4
 },
 "nbformat": 4,
 "nbformat_minor": 2
}

{
 "cells": [
  {
   "cell_type": "markdown",
   "source": [
    "### Write a function that returns the list of available attributes and methods of an object:\n",
    "\n",
    "Prototype: def lookup(obj):\n",
    "Returns a list object\n",
    "You are not allowed to import any module"
   ],
   "metadata": {
    "collapsed": false
   }
  },
  {
   "cell_type": "code",
   "execution_count": 1,
   "outputs": [
    {
     "name": "stdout",
     "output_type": "stream",
     "text": [
      "['__class__', '__delattr__', '__dict__', '__dir__', '__doc__', '__eq__', '__format__', '__ge__', '__getattribute__', '__gt__', '__hash__', '__init__', '__init_subclass__', '__le__', '__lt__', '__module__', '__ne__', '__new__', '__reduce__', '__reduce_ex__', '__repr__', '__setattr__', '__sizeof__', '__str__', '__subclasshook__', '__weakref__']\n",
      "['__class__', '__delattr__', '__dict__', '__dir__', '__doc__', '__eq__', '__format__', '__ge__', '__getattribute__', '__gt__', '__hash__', '__init__', '__init_subclass__', '__le__', '__lt__', '__module__', '__ne__', '__new__', '__reduce__', '__reduce_ex__', '__repr__', '__setattr__', '__sizeof__', '__str__', '__subclasshook__', '__weakref__', 'my_attr1', 'my_meth']\n",
      "['__abs__', '__add__', '__and__', '__bool__', '__ceil__', '__class__', '__delattr__', '__dir__', '__divmod__', '__doc__', '__eq__', '__float__', '__floor__', '__floordiv__', '__format__', '__ge__', '__getattribute__', '__getnewargs__', '__gt__', '__hash__', '__index__', '__init__', '__init_subclass__', '__int__', '__invert__', '__le__', '__lshift__', '__lt__', '__mod__', '__mul__', '__ne__', '__neg__', '__new__', '__or__', '__pos__', '__pow__', '__radd__', '__rand__', '__rdivmod__', '__reduce__', '__reduce_ex__', '__repr__', '__rfloordiv__', '__rlshift__', '__rmod__', '__rmul__', '__ror__', '__round__', '__rpow__', '__rrshift__', '__rshift__', '__rsub__', '__rtruediv__', '__rxor__', '__setattr__', '__sizeof__', '__str__', '__sub__', '__subclasshook__', '__truediv__', '__trunc__', '__xor__', 'as_integer_ratio', 'bit_count', 'bit_length', 'conjugate', 'denominator', 'from_bytes', 'imag', 'numerator', 'real', 'to_bytes']\n"
     ]
    }
   ],
   "source": [
    "#!/usr/bin/python3\n",
    "\"\"\"\n",
    "A module that contains a function that returns\n",
    "attributes and methods of an object\n",
    "\"\"\"\n",
    "\n",
    "\n",
    "def lookup(obj):\n",
    "    \"\"\"\n",
    "    Returns the attributes of an object\n",
    "    \"\"\"\n",
    "    return dir(obj)\n",
    "\n",
    "class MyClass1(object):\n",
    "    pass\n",
    "\n",
    "class MyClass2(object):\n",
    "    my_attr1 = 3\n",
    "    def my_meth(self):\n",
    "        pass\n",
    "\n",
    "print(lookup(MyClass1))\n",
    "print(lookup(MyClass2))\n",
    "print(lookup(int))"
   ],
   "metadata": {
    "collapsed": false,
    "ExecuteTime": {
     "end_time": "2023-07-10T23:17:51.648331621Z",
     "start_time": "2023-07-10T23:17:51.620415779Z"
    }
   }
  },
  {
   "cell_type": "markdown",
   "source": [
    "### Write a class MyList that inherits from list:\n",
    "\n",
    "- Public instance method: def print_sorted(self): that prints the list, but sorted (ascending sort)\n",
    "- You can assume that all the elements of the list will be of type int\n",
    "- You are not allowed to import any module"
   ],
   "metadata": {
    "collapsed": false
   }
  },
  {
   "cell_type": "code",
   "execution_count": 4,
   "outputs": [
    {
     "name": "stdout",
     "output_type": "stream",
     "text": [
      "[1, 4, 2, 3, 5]\n",
      "[1, 2, 3, 4, 5]\n",
      "[1, 4, 2, 3, 5]\n"
     ]
    }
   ],
   "source": [
    "#!/usr/bin/python3\n",
    "\"\"\"\n",
    "A module that contains a function that prints elements in\n",
    "a list from a subclass in ascending order\n",
    "\"\"\"\n",
    "\n",
    "class MyList(list):\n",
    "    \"\"\"\n",
    "    A class that extends the list class\n",
    "    \"\"\"\n",
    "    def print_sorted(self):\n",
    "        \"\"\"\n",
    "        Prints elements in the class in sorted order\n",
    "        \"\"\"\n",
    "        sorted_list = sorted(self)\n",
    "        print(sorted_list)\n",
    "\n",
    "my_list = MyList()\n",
    "my_list.append(1)\n",
    "my_list.append(4)\n",
    "my_list.append(2)\n",
    "my_list.append(3)\n",
    "my_list.append(5)\n",
    "print(my_list)\n",
    "my_list.print_sorted()\n",
    "print(my_list)"
   ],
   "metadata": {
    "collapsed": false,
    "ExecuteTime": {
     "end_time": "2023-07-10T23:22:26.967413470Z",
     "start_time": "2023-07-10T23:22:26.924834120Z"
    }
   }
  },
  {
   "cell_type": "markdown",
   "source": [
    "### Write a function that returns True if the object is exactly an instance of the specified class ; otherwise False.\n",
    "\n",
    "- Prototype: def is_same_class(obj, a_class):\n",
    "- You are not allowed to import any module"
   ],
   "metadata": {
    "collapsed": false
   }
  },
  {
   "cell_type": "code",
   "execution_count": 16,
   "outputs": [
    {
     "name": "stdout",
     "output_type": "stream",
     "text": [
      "1 is an instance of the class int\n"
     ]
    }
   ],
   "source": [
    "#!/usr/bin/python3\n",
    "\"\"\"\n",
    "A module that contains a function that\n",
    "that compares objects\n",
    "\"\"\"\n",
    "\n",
    "def is_same_class(obj, a_class):\n",
    "    \"\"\"\n",
    "    returns a True if obj is of the same as or False\n",
    "    \"\"\"\n",
    "    return type(obj) == a_class\n",
    "a = 1\n",
    "if is_same_class(a, int):\n",
    "    print(\"{} is an instance of the class {}\".format(a, int.__name__))\n",
    "if is_same_class(a, float):\n",
    "    print(\"{} is an instance of the class {}\".format(a, float.__name__))\n",
    "if is_same_class(a, object):\n",
    "    print(\"{} is an instance of the class {}\".format(a, object.__name__))\n"
   ],
   "metadata": {
    "collapsed": false,
    "ExecuteTime": {
     "end_time": "2023-07-10T23:31:33.595154485Z",
     "start_time": "2023-07-10T23:31:33.546857424Z"
    }
   }
  },
  {
   "cell_type": "markdown",
   "source": [
    "### Write a function that returns True if the object is an instance of, or if the object is an instance of a class that inherited from, the specified class ; otherwise False.\n",
    "\n",
    "- Prototype: def is_kind_of_class(obj, a_class):\n",
    "- You are not allowed to import any module"
   ],
   "metadata": {
    "collapsed": false
   }
  },
  {
   "cell_type": "code",
   "execution_count": 29,
   "outputs": [
    {
     "name": "stdout",
     "output_type": "stream",
     "text": [
      "<class 'bool'>\n",
      "<class 'type'>\n",
      "True inherited from class int\n",
      "<class 'bool'>\n",
      "<class 'type'>\n",
      "True inherited from class bool\n",
      "<class 'bool'>\n",
      "<class 'type'>\n",
      "True inherited from class object\n"
     ]
    }
   ],
   "source": [
    "#!/usr/bin/python3\n",
    "\"\"\"\n",
    "A module that contains a function that\n",
    "that compares objects\n",
    "\"\"\"\n",
    "\n",
    "def inherits_from(obj, a_class):\n",
    "    \"\"\"\n",
    "    returns True if an object is an instance of a_class\n",
    "    \"\"\"\n",
    "    return isinstance(obj, a_class)\n",
    "\n",
    "a = True\n",
    "if inherits_from(a, int):\n",
    "    print(\"{} inherited from class {}\".format(a, int.__name__))\n",
    "if inherits_from(a, bool):\n",
    "    print(\"{} inherited from class {}\".format(a, bool.__name__))\n",
    "if inherits_from(a, object):\n",
    "    print(\"{} inherited from class {}\".format(a, object.__name__))"
   ],
   "metadata": {
    "collapsed": false,
    "ExecuteTime": {
     "end_time": "2023-07-10T23:47:17.533822667Z",
     "start_time": "2023-07-10T23:47:17.524706836Z"
    }
   }
  }
 ],
 "metadata": {
  "kernelspec": {
   "display_name": "Python 3",
   "language": "python",
   "name": "python3"
  },
  "language_info": {
   "codemirror_mode": {
    "name": "ipython",
    "version": 2
   },
   "file_extension": ".py",
   "mimetype": "text/x-python",
   "name": "python",
   "nbconvert_exporter": "python",
   "pygments_lexer": "ipython2",
   "version": "2.7.6"
  }
 },
 "nbformat": 4,
 "nbformat_minor": 0
}

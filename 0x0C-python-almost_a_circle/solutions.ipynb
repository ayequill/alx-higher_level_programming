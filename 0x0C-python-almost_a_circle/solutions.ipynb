{
 "cells": [
  {
   "cell_type": "markdown",
   "metadata": {},
   "source": [
    "### Write the first class Base:\n",
    "\n",
    "- Create a folder named models with an empty file __init__.py inside - with this file, the folder will become a Python package\n",
    "\n",
    "- Create a file named models/base.py:\n",
    "\n",
    "- Class Base:\n",
    "    private class attribute __nb_objects = 0\n",
    "        class constructor: def __init__(self, id=None)::\n",
    "- if id is not None, assign the public instance attribute id with this argument value - you can assume id is an integer and you don’t need to test the type of it\n",
    "    otherwise, increment __nb_objects and assign the new value to the public instance attribute id\n",
    "- This class will be the “base” of all other classes in this project. The goal of it is to manage id attribute in all your future classes and to avoid duplicating the same code (by extension, same bugs)"
   ]
  },
  {
   "cell_type": "code",
   "execution_count": 2,
   "metadata": {},
   "outputs": [
    {
     "name": "stdout",
     "output_type": "stream",
     "text": [
      "1\n",
      "2\n",
      "3\n",
      "12\n",
      "4\n"
     ]
    }
   ],
   "source": [
    "\"\"\" 0-main \"\"\"\n",
    "from models.base import Base\n",
    "\n",
    "if __name__ == \"__main__\":\n",
    "\n",
    "    b1 = Base()\n",
    "    print(b1.id)\n",
    "\n",
    "    b2 = Base()\n",
    "    print(b2.id)\n",
    "\n",
    "    b3 = Base()\n",
    "    print(b3.id)\n",
    "\n",
    "    b4 = Base(12)\n",
    "    print(b4.id)\n",
    "\n",
    "    b5 = Base()\n",
    "    print(b5.id)"
   ]
  },
  {
   "cell_type": "markdown",
   "metadata": {},
   "source": [
    "# Rectangle Class\n",
    "\n",
    "The `Rectangle` class represents a rectangle object and inherits from the `Base` class.\n",
    "\n",
    "## Private Attributes\n",
    "\n",
    "The `Rectangle` class has the following private instance attributes:\n",
    "\n",
    "- `__width`: represents the width of the rectangle.\n",
    "- `__height`: represents the height of the rectangle.\n",
    "- `__x`: represents the x-coordinate of the rectangle's position.\n",
    "- `__y`: represents the y-coordinate of the rectangle's position.\n",
    "\n",
    "## Public Getters and Setters\n",
    "\n",
    "To access and modify the private attributes, the `Rectangle` class provides the following public getter and setter methods:\n",
    "\n",
    "- `width`: retrieves the width of the rectangle.\n",
    "- `height`: retrieves the height of the rectangle.\n",
    "- `x`: retrieves the x-coordinate of the rectangle's position.\n",
    "- `y`: retrieves the y-coordinate of the rectangle's position.\n",
    "\n",
    "These getter and setter methods allow controlled access to the attributes and enable validation and logic implementation.\n",
    "\n",
    "## Constructor\n",
    "\n",
    "The `Rectangle` class constructor initializes a rectangle object with the provided arguments:\n",
    "\n",
    "```python\n",
    "def __init__(self, width, height, x=0, y=0, id=None):\n",
    "    super().__init__(id)\n",
    "    self.__width = width\n",
    "    self.__height = height\n",
    "    self.__x = x\n",
    "    self.__y = y\n",
    "```\n",
    "\n",
    "The constructor calls the superclass constructor (`Base`) with the `id` argument using the `super()` function. It then assigns the values of `width`, `height`, `x`, and `y` to their respective private attributes."
   ]
  },
  {
   "cell_type": "code",
   "execution_count": 1,
   "metadata": {},
   "outputs": [
    {
     "name": "stdout",
     "output_type": "stream",
     "text": [
      "1\n",
      "2\n",
      "12\n"
     ]
    }
   ],
   "source": [
    "\"\"\" 1-main \"\"\"\n",
    "from models.rectangle import Rectangle\n",
    "\n",
    "if __name__ == \"__main__\":\n",
    "\n",
    "    r1 = Rectangle(10, 2)\n",
    "    print(r1.id)\n",
    "\n",
    "    r2 = Rectangle(2, 10)\n",
    "    print(r2.id)\n",
    "\n",
    "    r3 = Rectangle(10, 2, 0, 0, 12)\n",
    "    print(r3.id)\n"
   ]
  },
  {
   "cell_type": "markdown",
   "metadata": {},
   "source": [
    "### Update the class Rectangle by adding validation of all setter methods and instantiation (id excluded):\n",
    "\n",
    "- If the input is not an integer, raise the TypeError \n",
    "    exception with the message: <name of the attribute> must be an integer. \n",
    "        Example: width must be an integer\n",
    "- If width or height is under or equals 0, raise the ValueError exception with the message: <name of the attribute> must be > 0. Example: width must be > 0\n",
    "- If x or y is under 0, raise the ValueError exception with the message: <name of the attribute> must be >= 0. Example: x must be >= 0"
   ]
  },
  {
   "cell_type": "code",
   "execution_count": 2,
   "metadata": {},
   "outputs": [
    {
     "name": "stdout",
     "output_type": "stream",
     "text": [
      "[TypeError] height must be an integer\n",
      "[ValueError] width must be > 0\n",
      "[TypeError] x must be an integer\n",
      "[ValueError] y must be >= 0\n"
     ]
    }
   ],
   "source": [
    "\"\"\" 2-main \"\"\"\n",
    "from models.rectangle import Rectangle\n",
    "\n",
    "if __name__ == \"__main__\":\n",
    "\n",
    "    try:\n",
    "        Rectangle(10, \"2\")\n",
    "    except Exception as e:\n",
    "        print(\"[{}] {}\".format(e.__class__.__name__, e))\n",
    "\n",
    "    try:\n",
    "        r = Rectangle(10, 2)\n",
    "        r.width = -10\n",
    "    except Exception as e:\n",
    "        print(\"[{}] {}\".format(e.__class__.__name__, e))\n",
    "\n",
    "    try:\n",
    "        r = Rectangle(10, 2)\n",
    "        r.x = {}\n",
    "    except Exception as e:\n",
    "        print(\"[{}] {}\".format(e.__class__.__name__, e))\n",
    "\n",
    "    try:\n",
    "        Rectangle(10, 2, 3, -1)\n",
    "    except Exception as e:\n",
    "        print(\"[{}] {}\".format(e.__class__.__name__, e))\n"
   ]
  },
  {
   "cell_type": "markdown",
   "metadata": {},
   "source": [
    "### Update the class Rectangle by adding the public method def area(self): that returns the area value of the Rectangle instance."
   ]
  },
  {
   "cell_type": "code",
   "execution_count": 3,
   "metadata": {},
   "outputs": [
    {
     "name": "stdout",
     "output_type": "stream",
     "text": [
      "6\n",
      "20\n",
      "56\n"
     ]
    }
   ],
   "source": [
    "\"\"\" 3-main \"\"\"\n",
    "from models.rectangle import Rectangle\n",
    "\n",
    "if __name__ == \"__main__\":\n",
    "\n",
    "    r1 = Rectangle(3, 2)\n",
    "    print(r1.area())\n",
    "\n",
    "    r2 = Rectangle(2, 10)\n",
    "    print(r2.area())\n",
    "\n",
    "    r3 = Rectangle(8, 7, 0, 0, 12)\n",
    "    print(r3.area())\n"
   ]
  },
  {
   "cell_type": "markdown",
   "metadata": {},
   "source": [
    "### Update the class Rectangle by adding the public method def display(self): that prints in stdout the Rectangle instance with the character # - you don’t need to handle x and y here."
   ]
  },
  {
   "cell_type": "code",
   "execution_count": 4,
   "metadata": {},
   "outputs": [
    {
     "name": "stdout",
     "output_type": "stream",
     "text": [
      "####\n",
      "####\n",
      "####\n",
      "####\n",
      "####\n",
      "####\n",
      "---\n",
      "##\n",
      "##\n"
     ]
    }
   ],
   "source": [
    "\"\"\" 4-main \"\"\"\n",
    "from models.rectangle import Rectangle\n",
    "\n",
    "if __name__ == \"__main__\":\n",
    "\n",
    "    r1 = Rectangle(4, 6)\n",
    "    r1.display()\n",
    "\n",
    "    print(\"---\")\n",
    "\n",
    "    r1 = Rectangle(2, 2)\n",
    "    r1.display()"
   ]
  },
  {
   "cell_type": "markdown",
   "metadata": {},
   "source": [
    "### Update the class Rectangle by overriding the __str__ method so that it returns [Rectangle] (<id>) <x>/<y> - <width>/<height>\n",
    "\n"
   ]
  },
  {
   "cell_type": "code",
   "execution_count": 1,
   "metadata": {},
   "outputs": [
    {
     "name": "stdout",
     "output_type": "stream",
     "text": [
      "[Rectangle] (12) 2/1 - 4/6\n",
      "[Rectangle] (1) 1/0 - 5/5\n"
     ]
    }
   ],
   "source": [
    "\"\"\" 5-main \"\"\"\n",
    "from models.rectangle import Rectangle\n",
    "\n",
    "if __name__ == \"__main__\":\n",
    "\n",
    "    r1 = Rectangle(4, 6, 2, 1, 12)\n",
    "    print(r1)\n",
    "\n",
    "    r2 = Rectangle(5, 5, 1)\n",
    "    print(r2)\n"
   ]
  },
  {
   "cell_type": "markdown",
   "metadata": {},
   "source": [
    "### Update the class Rectangle by improving the public method def display(self): to print in stdout the Rectangle instance with the character # by taking care of x and y"
   ]
  },
  {
   "cell_type": "code",
   "execution_count": 2,
   "metadata": {},
   "outputs": [
    {
     "name": "stdout",
     "output_type": "stream",
     "text": [
      "\n",
      "\n",
      "  ##\n",
      "  ##\n",
      "  ##\n",
      "---\n",
      " ###\n",
      " ###\n"
     ]
    }
   ],
   "source": [
    "\"\"\" 6-main \"\"\"\n",
    "from models.rectangle import Rectangle\n",
    "\n",
    "if __name__ == \"__main__\":\n",
    "\n",
    "    r1 = Rectangle(2, 3, 2, 2)\n",
    "    r1.display()\n",
    "\n",
    "    print(\"---\")\n",
    "\n",
    "    r2 = Rectangle(3, 2, 1, 0)\n",
    "    r2.display()\n"
   ]
  },
  {
   "cell_type": "markdown",
   "metadata": {},
   "source": [
    "### Update the class Rectangle by adding the public method def update(self, *args): that assigns an argument to each attribute:\n",
    "\n",
    "- 1st argument should be the id attribute\n",
    "- 2nd argument should be the width attribute\n",
    "- 3rd argument should be the height attribute\n",
    "- 4th argument should be the x attribute\n",
    "- 5th argument should be the y attribute\n",
    "#### This type of argument is called a “no-keyword argument” Argument order is super important.\n",
    "\n"
   ]
  },
  {
   "cell_type": "code",
   "execution_count": 3,
   "metadata": {},
   "outputs": [
    {
     "name": "stdout",
     "output_type": "stream",
     "text": [
      "[Rectangle] (4) 10/10 - 10/10\n",
      "[Rectangle] (89) 10/10 - 10/10\n",
      "[Rectangle] (89) 10/10 - 2/10\n",
      "[Rectangle] (89) 10/10 - 2/3\n",
      "[Rectangle] (89) 4/10 - 2/3\n",
      "[Rectangle] (89) 4/5 - 2/3\n"
     ]
    }
   ],
   "source": [
    "\"\"\" Doc \"\"\"\n",
    "from models.rectangle import Rectangle\n",
    "\n",
    "if __name__ == \"__main__\":\n",
    "\n",
    "    r1 = Rectangle(10, 10, 10, 10)\n",
    "    print(r1)\n",
    "\n",
    "    r1.update(89)\n",
    "    print(r1)\n",
    "\n",
    "    r1.update(89, 2)\n",
    "    print(r1)\n",
    "\n",
    "    r1.update(89, 2, 3)\n",
    "    print(r1)\n",
    "\n",
    "    r1.update(89, 2, 3, 4)\n",
    "    print(r1)\n",
    "\n",
    "    r1.update(89, 2, 3, 4, 5)\n",
    "    print(r1)"
   ]
  },
  {
   "cell_type": "markdown",
   "metadata": {},
   "source": [
    "### Update the class Rectangle by updating the public method def update(self, *args): by changing the prototype to update(self, *args, **kwargs) that assigns a key/value argument to attributes:\n",
    "\n",
    "- **kwargs can be thought of as a double pointer to a dictionary: key/value\n",
    "- As Python doesn’t have pointers, **kwargs is not literally a double pointer – describing it as such is just a way of explaining its behavior in terms you’re already familiar with\n",
    "- **kwargs must be skipped if *args exists and is not empty\n",
    "- Each key in this dictionary represents an attribute to the instance\n",
    "This type of argument is called a “key-worded argument”. Argument order is not important."
   ]
  },
  {
   "cell_type": "code",
   "execution_count": 1,
   "metadata": {},
   "outputs": [
    {
     "name": "stdout",
     "output_type": "stream",
     "text": [
      "[Rectangle] (1) 10/10 - 10/10\n",
      "[Rectangle] (1) 10/10 - 10/1\n",
      "[Rectangle] (1) 2/10 - 1/1\n",
      "[Rectangle] (89) 3/1 - 2/1\n",
      "[Rectangle] (89) 1/3 - 4/2\n"
     ]
    }
   ],
   "source": [
    "\"\"\" 8-main \"\"\"\n",
    "from models.rectangle import Rectangle\n",
    "\n",
    "if __name__ == \"__main__\":\n",
    "\n",
    "    r1 = Rectangle(10, 10, 10, 10)\n",
    "    print(r1)\n",
    "\n",
    "    r1.update(height=1)\n",
    "    print(r1)\n",
    "\n",
    "    r1.update(width=1, x=2)\n",
    "    print(r1)\n",
    "\n",
    "    r1.update(y=1, width=2, x=3, id=89)\n",
    "    print(r1)\n",
    "\n",
    "    r1.update(x=1, height=2, y=3, width=4)\n",
    "    print(r1)"
   ]
  },
  {
   "cell_type": "markdown",
   "metadata": {},
   "source": [
    "# And now, the Square!\n",
    "### Write the class Square that inherits from Rectangle:\n",
    "\n",
    "- In the file models/square.py\n",
    "- Class Square inherits from Rectangle\n",
    "- Class constructor: def __init__(self, size, x=0, y=0, id=None)::\n",
    "- Call the super class with id, x, y, width and height - this super call will use the logic of the __init__ of the Rectangle class. The width and height must be assigned to the value of size\n",
    "- You must not create new attributes for this class, use all attributes of Rectangle - As reminder: a Square is a Rectangle with the same width and height\n",
    "- All width, height, x and y validation must inherit from Rectangle - same behavior in case of wrong data\n",
    "- The overloading __str__ method should return [Square] (<id>) <x>/<y> - <size> - in our case, width or height\n",
    "- As you know, a Square is a special Rectangle, so it makes sense this class Square inherits from Rectangle. Now you have a Square class who has the same attributes and same methods.\n"
   ]
  },
  {
   "cell_type": "code",
   "execution_count": 2,
   "metadata": {},
   "outputs": [
    {
     "name": "stdout",
     "output_type": "stream",
     "text": [
      "[Square] (2) 0/0 - 5\n",
      "25\n",
      "#####\n",
      "#####\n",
      "#####\n",
      "#####\n",
      "#####\n",
      "---\n",
      "[Square] (3) 2/0 - 2\n",
      "4\n",
      "  ##\n",
      "  ##\n",
      "---\n",
      "[Square] (4) 1/3 - 3\n",
      "9\n",
      "\n",
      "\n",
      "\n",
      " ###\n",
      " ###\n",
      " ###\n"
     ]
    }
   ],
   "source": [
    "\"\"\" 9-main \"\"\"\n",
    "from models.square import Square\n",
    "\n",
    "if __name__ == \"__main__\":\n",
    "\n",
    "    s1 = Square(5)\n",
    "    print(s1)\n",
    "    print(s1.area())\n",
    "    s1.display()\n",
    "\n",
    "    print(\"---\")\n",
    "\n",
    "    s2 = Square(2, 2)\n",
    "    print(s2)\n",
    "    print(s2.area())\n",
    "    s2.display()\n",
    "\n",
    "    print(\"---\")\n",
    "\n",
    "    s3 = Square(3, 1, 3)\n",
    "    print(s3)\n",
    "    print(s3.area())\n",
    "    s3.display()"
   ]
  },
  {
   "cell_type": "markdown",
   "metadata": {},
   "source": [
    "### Update the class Square by adding the public getter and setter size\n",
    "\n",
    "- The setter should assign (in this order) the width and the height - with the same value\n",
    "- The setter should have the same value validation as the Rectangle for width and height - No need to change the exception error message (It should be the one from width)"
   ]
  },
  {
   "cell_type": "code",
   "execution_count": 3,
   "metadata": {},
   "outputs": [
    {
     "name": "stdout",
     "output_type": "stream",
     "text": [
      "[Square] (5) 0/0 - 5\n",
      "5\n",
      "[Square] (5) 0/0 - 10\n",
      "[TypeError] width must be an integer\n"
     ]
    }
   ],
   "source": [
    "\"\"\" 10-main \"\"\"\n",
    "from models.square import Square\n",
    "\n",
    "if __name__ == \"__main__\":\n",
    "\n",
    "    s1 = Square(5)\n",
    "    print(s1)\n",
    "    print(s1.size)\n",
    "    s1.size = 10\n",
    "    print(s1)\n",
    "\n",
    "    try:\n",
    "        s1.size = \"9\"\n",
    "    except Exception as e:\n",
    "        print(\"[{}] {}\".format(e.__class__.__name__, e))"
   ]
  },
  {
   "cell_type": "markdown",
   "metadata": {},
   "source": [
    "### Update the class Square by adding the public method def update(self, *args, **kwargs) that assigns attributes:\n",
    "\n",
    "- *args is the list of arguments - no-keyworded arguments\n",
    "    - 1st argument should be the id attribute\n",
    "    - 2nd argument should be the size attribute\n",
    "    - 3rd argument should be the x attribute\n",
    "    - 4th argument should be the y attribute\n",
    "- **kwargs can be thought of as a double pointer to a dictionary: key/value (keyworded arguments)\n",
    "- **kwargs must be skipped if *args exists and is not empty\n",
    "- Each key in this dictionary represents an attribute to the instance"
   ]
  },
  {
   "cell_type": "code",
   "execution_count": 1,
   "metadata": {},
   "outputs": [
    {
     "name": "stdout",
     "output_type": "stream",
     "text": [
      "[Square] (1) 0/0 - 5\n",
      "[Square] (10) 0/0 - 5\n",
      "[Square] (1) 0/0 - 2\n",
      "[Square] (1) 3/0 - 2\n",
      "[Square] (1) 3/4 - 2\n",
      "[Square] (1) 12/4 - 2\n",
      "[Square] (1) 12/1 - 7\n",
      "[Square] (89) 12/1 - 7\n"
     ]
    }
   ],
   "source": [
    "\"\"\" 11-main \"\"\"\n",
    "from models.square import Square\n",
    "\n",
    "if __name__ == \"__main__\":\n",
    "\n",
    "    s1 = Square(5)\n",
    "    print(s1)\n",
    "\n",
    "    s1.update(10)\n",
    "    print(s1)\n",
    "\n",
    "    s1.update(1, 2)\n",
    "    print(s1)\n",
    "\n",
    "    s1.update(1, 2, 3)\n",
    "    print(s1)\n",
    "\n",
    "    s1.update(1, 2, 3, 4)\n",
    "    print(s1)\n",
    "\n",
    "    s1.update(x=12)\n",
    "    print(s1)\n",
    "\n",
    "    s1.update(size=7, y=1)\n",
    "    print(s1)\n",
    "\n",
    "    s1.update(size=7, id=89, y=1)\n",
    "    print(s1)"
   ]
  },
  {
   "cell_type": "markdown",
   "metadata": {},
   "source": [
    "#### Update the class Rectangle by adding the public method def to_dictionary(self): that returns the dictionary representation of a Rectangle:\n",
    "\n",
    "### This dictionary must contain:\n",
    "\n",
    "- id\n",
    "- width\n",
    "- height\n",
    "- x\n",
    "- y"
   ]
  },
  {
   "cell_type": "code",
   "execution_count": 1,
   "metadata": {},
   "outputs": [
    {
     "name": "stdout",
     "output_type": "stream",
     "text": [
      "[Rectangle] (1) 1/9 - 10/2\n",
      "{'id': 1, 'width': 10, 'height': 2, 'x': 1, 'y': 9}\n",
      "<class 'dict'>\n",
      "[Rectangle] (2) 0/0 - 1/1\n",
      "[Rectangle] (1) 1/9 - 10/2\n",
      "False\n"
     ]
    }
   ],
   "source": [
    "\"\"\" 12-main \"\"\"\n",
    "from models.rectangle import Rectangle\n",
    "\n",
    "if __name__ == \"__main__\":\n",
    "\n",
    "    r1 = Rectangle(10, 2, 1, 9)\n",
    "    print(r1)\n",
    "    r1_dictionary = r1.to_dictionary()\n",
    "    print(r1_dictionary)\n",
    "    print(type(r1_dictionary))\n",
    "\n",
    "    r2 = Rectangle(1, 1)\n",
    "    print(r2)\n",
    "    r2.update(**r1_dictionary)\n",
    "    print(r2)\n",
    "    print(r1 == r2)"
   ]
  },
  {
   "cell_type": "markdown",
   "metadata": {},
   "source": [
    "#### Update the class Square by adding the public method def to_dictionary(self): that returns the dictionary representation of a Square:\n",
    "\n",
    "This dictionary must contain:\n",
    "\n",
    "- id\n",
    "- size\n",
    "- x\n",
    "- y"
   ]
  },
  {
   "cell_type": "code",
   "execution_count": 1,
   "metadata": {},
   "outputs": [
    {
     "name": "stdout",
     "output_type": "stream",
     "text": [
      "[Square] (1) 2/1 - 10\n",
      "{'id': 1, 'size': 10, 'x': 2, 'y': 1}\n",
      "<class 'dict'>\n",
      "[Square] (2) 1/0 - 1\n",
      "[Square] (1) 2/1 - 10\n",
      "False\n"
     ]
    }
   ],
   "source": [
    "\"\"\" 13-main \"\"\"\n",
    "from models.square import Square\n",
    "\n",
    "if __name__ == \"__main__\":\n",
    "\n",
    "    s1 = Square(10, 2, 1)\n",
    "    print(s1)\n",
    "    s1_dictionary = s1.to_dictionary()\n",
    "    print(s1_dictionary)\n",
    "    print(type(s1_dictionary))\n",
    "\n",
    "    s2 = Square(1, 1)\n",
    "    print(s2)\n",
    "    s2.update(**s1_dictionary)\n",
    "    print(s2)\n",
    "    print(s1 == s2)"
   ]
  },
  {
   "cell_type": "markdown",
   "metadata": {},
   "source": [
    "#### JSON is one of the standard formats for sharing data representation.\n",
    "\n",
    "- Update the class Base by adding the static method def to_json_string(list_dictionaries): that returns the JSON string representation of list_dictionaries:\n",
    "\n",
    "    - list_dictionaries is a list of dictionaries\n",
    "    - If list_dictionaries is None or empty, return the string: \"[]\"\n",
    "    - Otherwise, return the JSON string representation of list_dictionaries"
   ]
  },
  {
   "cell_type": "code",
   "execution_count": 1,
   "metadata": {},
   "outputs": [
    {
     "name": "stdout",
     "output_type": "stream",
     "text": [
      "{'id': 1, 'width': 10, 'height': 7, 'x': 2, 'y': 8}\n",
      "<class 'dict'>\n",
      "[{\"id\": 1, \"width\": 10, \"height\": 7, \"x\": 2, \"y\": 8}]\n",
      "<class 'str'>\n"
     ]
    }
   ],
   "source": [
    "\"\"\" 14-main \"\"\"\n",
    "from models.base import Base\n",
    "from models.rectangle import Rectangle\n",
    "\n",
    "if __name__ == \"__main__\":\n",
    "\n",
    "    r1 = Rectangle(10, 7, 2, 8)\n",
    "    dictionary = r1.to_dictionary()\n",
    "    json_dictionary = Base.to_json_string([dictionary])\n",
    "    print(dictionary)\n",
    "    print(type(dictionary))\n",
    "    print(json_dictionary)\n",
    "    print(type(json_dictionary))"
   ]
  },
  {
   "cell_type": "markdown",
   "metadata": {},
   "source": [
    "#### Update the class Base by adding the class method def save_to_file(cls, list_objs): that writes the JSON string representation of list_objs to a file:\n",
    "\n",
    "- list_objs is a list of instances who inherits of Base - example: list of Rectangle or list of Square instances\n",
    "- If list_objs is None, save an empty list\n",
    "- The filename must be: <Class name>.json - example: Rectangle.json\n",
    "- You must use the static method to_json_string (created before)\n",
    "- You must overwrite the file if it already exists\n"
   ]
  },
  {
   "cell_type": "code",
   "execution_count": 1,
   "metadata": {},
   "outputs": [
    {
     "name": "stdout",
     "output_type": "stream",
     "text": [
      "[{\"id\": 1, \"width\": 10, \"height\": 7, \"x\": 2, \"y\": 8}, {\"id\": 2, \"width\": 2, \"height\": 4, \"x\": 0, \"y\": 0}]\n"
     ]
    }
   ],
   "source": [
    "#!/usr/bin/python3\n",
    "\"\"\" 15-main \"\"\"\n",
    "from models.rectangle import Rectangle\n",
    "\n",
    "if __name__ == \"__main__\":\n",
    "\n",
    "    r1 = Rectangle(10, 7, 2, 8)\n",
    "    r2 = Rectangle(2, 4)\n",
    "    Rectangle.save_to_file([r1, r2])\n",
    "\n",
    "    with open(\"Rectangle.json\", \"r\") as file:\n",
    "        print(file.read())"
   ]
  },
  {
   "cell_type": "markdown",
   "metadata": {},
   "source": [
    "Update the class Base by adding the static method def from_json_string(json_string): that returns the list of the JSON string representation json_string:\n",
    "\n",
    "json_string is a string representing a list of dictionaries\n",
    "If json_string is None or empty, return an empty list\n",
    "Otherwise, return the list represented by json_string\n"
   ]
  }
 ],
 "metadata": {
  "kernelspec": {
   "display_name": "Python 3",
   "language": "python",
   "name": "python3"
  },
  "language_info": {
   "codemirror_mode": {
    "name": "ipython",
    "version": 3
   },
   "file_extension": ".py",
   "mimetype": "text/x-python",
   "name": "python",
   "nbconvert_exporter": "python",
   "pygments_lexer": "ipython3",
   "version": "3.10.6"
  },
  "orig_nbformat": 4
 },
 "nbformat": 4,
 "nbformat_minor": 2
}

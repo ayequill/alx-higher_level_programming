{
 "cells": [
  {
   "cell_type": "code",
   "execution_count": null,
   "metadata": {},
   "outputs": [],
   "source": [
    "#!/usr/bin/python3\n",
    "if __name__ == \"__main__\":\n",
    "    \"\"\"Prints all integers in a list\"\"\"\n",
    "    def print_list_integer(my_list=[]):\n",
    "        for item in my_list:\n",
    "            print(\"{}\".format(item))\n",
    "        return"
   ]
  },
  {
   "cell_type": "code",
   "execution_count": null,
   "metadata": {},
   "outputs": [],
   "source": [
    "#!/usr/bin/python3\n",
    "if __name__ == \"__main__\":\n",
    "\"\"\" Prints an element from a list of integers. \"\"\"\n",
    "    def element_at(my_list, idx):\n",
    "        if idx < 0 or idx > len(my_list) - 1:\n",
    "            return None\n",
    "        return my_list[idx]"
   ]
  },
  {
   "cell_type": "code",
   "execution_count": null,
   "metadata": {},
   "outputs": [],
   "source": []
  }
 ],
 "metadata": {
  "kernelspec": {
   "display_name": "Python 3 (ipykernel)",
   "language": "python",
   "name": "python3"
  },
  "language_info": {
   "codemirror_mode": {
    "name": "ipython",
    "version": 3
   },
   "file_extension": ".py",
   "mimetype": "text/x-python",
   "name": "python",
   "nbconvert_exporter": "python",
   "pygments_lexer": "ipython3",
   "version": "3.10.6"
  },
  "orig_nbformat": 4
 },
 "nbformat": 4,
 "nbformat_minor": 2
}

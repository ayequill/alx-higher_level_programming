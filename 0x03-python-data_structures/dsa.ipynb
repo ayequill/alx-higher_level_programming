{
 "cells": [
  {
   "cell_type": "code",
   "execution_count": null,
   "metadata": {},
   "outputs": [],
   "source": [
    "#!/usr/bin/python3\n",
    "\"\"\"Prints all integers in a list\"\"\"\n",
    "def print_list_integer(my_list=[]):\n",
    "    for item in my_list:\n",
    "        print(\"{}\".format(item))\n",
    "    return"
   ]
  },
  {
   "cell_type": "code",
   "execution_count": null,
   "metadata": {},
   "outputs": [],
   "source": [
    "#!/usr/bin/python3\n",
    "if __name__ == \"__main__\":\n",
    "\"\"\" Prints an element from a list of integers. \"\"\"\n",
    "    def element_at(my_list, idx):\n",
    "        if idx < 0 or idx > len(my_list) - 1:\n",
    "            return None\n",
    "        return my_list[idx]"
   ]
  },
  {
   "cell_type": "code",
   "execution_count": 16,
   "metadata": {},
   "outputs": [
    {
     "name": "stdout",
     "output_type": "stream",
     "text": [
      "[1, 2, 3]\n"
     ]
    }
   ],
   "source": [
    "#!/usr/bin/python3\n",
    "\"\"\" Replace an element in a list with a value \"\"\"\n",
    "\n",
    "def replace_in_list(my_list, idx, element):\n",
    "    if idx < 0 or idx > len(my_list) - 1:\n",
    "        return my_list\n",
    "    my_list[idx] = element\n",
    "    return my_list\n"
   ]
  },
  {
   "cell_type": "code",
   "execution_count": null,
   "metadata": {},
   "outputs": [],
   "source": [
    "#!/usr/bin/python3\n",
    "\"\"\" Replace an element in a list with a value \"\"\"\n",
    "\n",
    "\n",
    "def replace_in_list(my_list, idx, element):\n",
    "    if idx < 0 or idx > len(my_list) - 1:\n",
    "        return my_list\n",
    "    my_list[idx] = element\n",
    "    return my_list\n"
   ]
  },
  {
   "cell_type": "code",
   "execution_count": null,
   "metadata": {},
   "outputs": [],
   "source": [
    "#!/usr/bin/python3\n",
    "\"\"\"  Prints a list of integers reversed   \"\"\"\n",
    "\n",
    "\n",
    "def print_reversed_list_integer(my_list=[]):\n",
    "    if not my_list:\n",
    "        pass\n",
    "    else:\n",
    "        for number in reversed(my_list):\n",
    "            print(\"{:d}\".format(number))\n"
   ]
  },
  {
   "cell_type": "code",
   "execution_count": null,
   "metadata": {},
   "outputs": [],
   "source": [
    "#!/usr/bin/python3\n",
    "\"\"\" Replace element in list without changing original list \"\"\"\n",
    "\n",
    "\n",
    "def new_in_list(my_list, idx, element):\n",
    "    if idx < 0 or idx >= len(my_list):\n",
    "        return my_list\n",
    "\n",
    "    list_copy = my_list.copy()\n",
    "    list_copy[idx] = element\n",
    "    return list_copy"
   ]
  },
  {
   "cell_type": "code",
   "execution_count": null,
   "metadata": {},
   "outputs": [],
   "source": [
    "#!/usr/bin/python3\n",
    "\"\"\" Removes an occurrence of c and C from a string. \"\"\"\n",
    "\n",
    "\n",
    "def no_c(my_string):\n",
    "    return \"\".join(char for char in my_string if char not in \"Cc\")\n"
   ]
  },
  {
   "cell_type": "code",
   "execution_count": null,
   "metadata": {},
   "outputs": [],
   "source": [
    "#!/usr/bin/python3\n",
    "\"\"\" Prints a matrix of integers \"\"\"\n",
    "\n",
    "\n",
    "def print_matrix_integer(matrix=[[]]):\n",
    "\n",
    "    for i in range(len(matrix)):\n",
    "        for j in range(len(matrix[i])):\n",
    "            if j != 0:\n",
    "                print(\" \", end=\"\")\n",
    "            print(\"{:d}\".format(matrix[i][j]), end=\"\")\n",
    "        print()\n"
   ]
  },
  {
   "cell_type": "code",
   "execution_count": null,
   "metadata": {},
   "outputs": [],
   "source": [
    "#!/usr/bin/python3\n",
    "\"\"\" Adds element in a tuple \"\"\"\n",
    "\n",
    "\n",
    "def add_tuple(tuple_a=(), tuple_b=()):\n",
    "    a1 = tuple_a[0] if len(tuple_a) > 0 else 0\n",
    "    a2 = tuple_a[1] if len(tuple_a) > 1 else 0\n",
    "    b1 = tuple_b[0] if len(tuple_b) > 0 else 0\n",
    "    b2 = tuple_b[1] if len(tuple_b) > 1 else 0\n",
    "    return (a1 + b1, a2 + b2)"
   ]
  },
  {
   "cell_type": "code",
   "execution_count": null,
   "metadata": {},
   "outputs": [],
   "source": [
    "#!/usr/bin/python3\n",
    "\"\"\" returns a tuple with the length of a string and its first character. \"\"\"\n",
    "\n",
    "\n",
    "def multiple_returns(sentence):\n",
    "    if sentence is not None:\n",
    "        return (len(sentence), sentence[:1]) if len(sentence) != 0 else (len(sentence), None)"
   ]
  },
  {
   "cell_type": "code",
   "execution_count": null,
   "metadata": {},
   "outputs": [],
   "source": [
    "#!/usr/bin/python3\n",
    "\"\"\" Find the biggest integer in a list of integers \"\"\"\n",
    "\n",
    "def max_integer(my_list=[]):\n",
    "    sorted_numbers = my_list[:]\n",
    "    sorted_numbers.sort()\n",
    "    return sorted_numbers[-1]\n"
   ]
  },
  {
   "cell_type": "code",
   "execution_count": null,
   "metadata": {},
   "outputs": [],
   "source": []
  }
 ],
 "metadata": {
  "kernelspec": {
   "display_name": "Python 3 (ipykernel)",
   "language": "python",
   "name": "python3"
  },
  "language_info": {
   "codemirror_mode": {
    "name": "ipython",
    "version": 3
   },
   "file_extension": ".py",
   "mimetype": "text/x-python",
   "name": "python",
   "nbconvert_exporter": "python",
   "pygments_lexer": "ipython3",
   "version": "3.10.6"
  },
  "orig_nbformat": 4
 },
 "nbformat": 4,
 "nbformat_minor": 2
}
